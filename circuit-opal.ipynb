{
 "cells": [
  {
   "cell_type": "code",
   "execution_count": null,
   "metadata": {},
   "outputs": [],
   "source": [
    "import fireopal\n",
    "import qiskit\n",
    "from qiskit_ibm_runtime import QiskitRuntimeService\n",
    "import matplotlib.pyplot as plt\n",
    "import os\n"
   ]
  },
  {
   "cell_type": "code",
   "execution_count": 3,
   "metadata": {},
   "outputs": [],
   "source": [
    "shot_count = 2048\n",
    "\n",
    "\n",
    "def draw_circuit(qasm_str: str):\n",
    "    \"\"\"Draws a QASM circuit.\"\"\"\n",
    "    circuit = qiskit.QuantumCircuit.from_qasm_str(qasm_str)\n",
    "    display(circuit.draw(fold=-1))\n",
    "\n",
    "\n",
    "def plot_bv_results(results, hidden_string, title=\"\"):\n",
    "    \"\"\"Plot a probability histogram and highlight the hidden string.\"\"\"\n",
    "    bitstrings = sorted(results.keys())\n",
    "\n",
    "    def to_probability(value, total):\n",
    "        if isinstance(value, float):\n",
    "            return value\n",
    "        return value / total\n",
    "\n",
    "    probabilities = [to_probability(results[b], shot_count) for b in bitstrings]\n",
    "    plt.figure(figsize=(50, 5))\n",
    "    bars = plt.bar(bitstrings, probabilities)\n",
    "    plt.xticks(rotation=90)\n",
    "\n",
    "    for index, bitstring in enumerate(bitstrings):\n",
    "        if bitstring != hidden_string:\n",
    "            bars[index].set_color(\"grey\")\n",
    "\n",
    "    plt.ylabel(\"Probability\")\n",
    "    plt.ylim([0, 1])\n",
    "    plt.title(title)\n",
    "    plt.show()"
   ]
  },
  {
   "cell_type": "markdown",
   "metadata": {},
   "source": [
    "## Providing quantum circuit"
   ]
  },
  {
   "cell_type": "code",
   "execution_count": null,
   "metadata": {},
   "outputs": [],
   "source": [
    "circuit_qasm = \"\"\"OPENQASM 2.0;\n",
    "include \"qelib1.inc\";\n",
    "qreg q[12];\n",
    "creg c[11];\n",
    "x q[11];\n",
    "h q[0];\n",
    "h q[1];\n",
    "h q[2];\n",
    "h q[3];\n",
    "h q[4];\n",
    "h q[5];\n",
    "h q[6];\n",
    "h q[7];\n",
    "h q[8];\n",
    "h q[9];\n",
    "h q[10];\n",
    "h q[11];\n",
    "barrier q[0],q[1],q[2],q[3],q[4],q[5],q[6],q[7],q[8],q[9],q[10],q[11];\n",
    "cx q[0],q[11];\n",
    "cx q[1],q[11];\n",
    "cx q[2],q[11];\n",
    "cx q[3],q[11];\n",
    "cx q[4],q[11];\n",
    "cx q[5],q[11];\n",
    "cx q[6],q[11];\n",
    "cx q[7],q[11];\n",
    "cx q[8],q[11];\n",
    "cx q[9],q[11];\n",
    "cx q[10],q[11];\n",
    "barrier q[0],q[1],q[2],q[3],q[4],q[5],q[6],q[7],q[8],q[9],q[10],q[11];\n",
    "h q[0];\n",
    "h q[1];\n",
    "h q[2];\n",
    "h q[3];\n",
    "h q[4];\n",
    "h q[5];\n",
    "h q[6];\n",
    "h q[7];\n",
    "h q[8];\n",
    "h q[9];\n",
    "h q[10];\n",
    "h q[11];\n",
    "barrier q[0],q[1],q[2],q[3],q[4],q[5],q[6],q[7],q[8],q[9],q[10],q[11];\n",
    "measure q[0] -> c[0];\n",
    "measure q[1] -> c[1];\n",
    "measure q[2] -> c[2];\n",
    "measure q[3] -> c[3];\n",
    "measure q[4] -> c[4];\n",
    "measure q[5] -> c[5];\n",
    "measure q[6] -> c[6];\n",
    "measure q[7] -> c[7];\n",
    "measure q[8] -> c[8];\n",
    "measure q[9] -> c[9];\n",
    "measure q[10] -> c[10];\n",
    "\"\"\"\n",
    "draw_circuit(circuit_qasm)"
   ]
  },
  {
   "cell_type": "code",
   "execution_count": null,
   "metadata": {},
   "outputs": [],
   "source": [
    "token = \"\"\n",
    "instance = \"\"\n",
    "credentials = fireopal.credentials.make_credentials_for_ibm_cloud(\n",
    "    token=token, instance=instance\n",
    ")\n",
    "\n",
    "QiskitRuntimeService.save_account(\n",
    "    channel=\"ibm_cloud\", token=token, instance=instance, overwrite=True\n",
    ")\n",
    "service = QiskitRuntimeService()"
   ]
  },
  {
   "cell_type": "code",
   "execution_count": null,
   "metadata": {},
   "outputs": [],
   "source": [
    "supported_devices = fireopal.show_supported_devices(credentials=credentials)[\n",
    "    \"supported_devices\"\n",
    "]\n",
    "for name in supported_devices:\n",
    "    print(name)"
   ]
  },
  {
   "cell_type": "code",
   "execution_count": null,
   "metadata": {},
   "outputs": [],
   "source": [
    "backend_name = \"ibm_perth\"\n",
    "print(f\"Will run on backend: {backend_name}\")"
   ]
  },
  {
   "cell_type": "code",
   "execution_count": null,
   "metadata": {},
   "outputs": [],
   "source": [
    "validate_results = fireopal.validate(\n",
    "    circuits=[circuit_qasm], credentials=credentials, backend_name=backend_name\n",
    ")\n",
    "\n",
    "if validate_results[\"results\"] == []:\n",
    "    print(\"No errors found.\")\n",
    "else:\n",
    "    print(\"The following errors were found:\")\n",
    "    for error in validate_results[\"results\"]:\n",
    "        print(error)"
   ]
  },
  {
   "cell_type": "code",
   "execution_count": null,
   "metadata": {},
   "outputs": [],
   "source": [
    "print(\n",
    "    \"Submitted the circuit to IBM. Note: there may be a delay in getting results due to IBM \"\n",
    "    \"device queues. Check the status through instructions at \"\n",
    "    \"https://cloud.ibm.com/docs/quantum-computing?topic=quantum-computing-results.\"\n",
    ")\n",
    "real_hardware_results = fireopal.execute(\n",
    "    circuits=[circuit_qasm],\n",
    "    shot_count=shot_count,\n",
    "    credentials=credentials,\n",
    "    backend_name=backend_name,\n",
    ")\n",
    "\n",
    "bitstring_results = real_hardware_results[\"results\"]"
   ]
  },
  {
   "cell_type": "code",
   "execution_count": null,
   "metadata": {},
   "outputs": [],
   "source": [
    "print(f\"Success probability: {100 * bitstring_results[0]['11111111111']:.2f}%\")\n",
    "plot_bv_results(\n",
    "    bitstring_results[0], hidden_string=\"11111111111\", title=f\"Fire Opal ($n=11$)\"\n",
    ")"
   ]
  },
  {
   "cell_type": "markdown",
   "metadata": {},
   "source": [
    "## Comparing Fire Opal with Qiskit"
   ]
  },
  {
   "cell_type": "code",
   "execution_count": null,
   "metadata": {},
   "outputs": [],
   "source": [
    "from qiskit_ibm_runtime import Sampler, Options\n",
    "\n",
    "backend = service.backend(backend_name)\n",
    "options = Options()\n",
    "options.execution.shots = shot_count\n",
    "sampler = Sampler(backend=backend, options=options)\n",
    "\n",
    "circuit_qiskit = qiskit.QuantumCircuit.from_qasm_str(circuit_qasm)\n",
    "ibm_result = sampler.run(circuit_qiskit).result()\n",
    "ibm_probabilities = (\n",
    "    ibm_result.quasi_dists[0]\n",
    "    .nearest_probability_distribution()\n",
    "    .binary_probabilities(num_bits=11)\n",
    ")\n",
    "\n",
    "print(f\"Success probability: {100 * ibm_probabilities['11111111111']:.2f}%\")\n",
    "plot_bv_results(\n",
    "    ibm_probabilities, hidden_string=\"11111111111\", title=f\"{backend_name} ($n=11$)\"\n",
    ")"
   ]
  }
 ],
 "metadata": {
  "kernelspec": {
   "display_name": "Python 3",
   "language": "python",
   "name": "python3"
  },
  "language_info": {
   "codemirror_mode": {
    "name": "ipython",
    "version": 3
   },
   "file_extension": ".py",
   "mimetype": "text/x-python",
   "name": "python",
   "nbconvert_exporter": "python",
   "pygments_lexer": "ipython3",
   "version": "3.10.5"
  }
 },
 "nbformat": 4,
 "nbformat_minor": 2
}
